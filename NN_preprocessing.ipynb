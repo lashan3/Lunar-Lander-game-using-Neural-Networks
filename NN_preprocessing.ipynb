{
 "cells": [
  {
   "cell_type": "code",
   "execution_count": 22,
   "metadata": {},
   "outputs": [],
   "source": [
    "import pandas as pd\n",
    "from sklearn import preprocessing"
   ]
  },
  {
   "cell_type": "code",
   "execution_count": 23,
   "metadata": {},
   "outputs": [
    {
     "data": {
      "text/html": [
       "<div>\n",
       "<style scoped>\n",
       "    .dataframe tbody tr th:only-of-type {\n",
       "        vertical-align: middle;\n",
       "    }\n",
       "\n",
       "    .dataframe tbody tr th {\n",
       "        vertical-align: top;\n",
       "    }\n",
       "\n",
       "    .dataframe thead th {\n",
       "        text-align: right;\n",
       "    }\n",
       "</style>\n",
       "<table border=\"1\" class=\"dataframe\">\n",
       "  <thead>\n",
       "    <tr style=\"text-align: right;\">\n",
       "      <th></th>\n",
       "      <th>X1</th>\n",
       "      <th>X2</th>\n",
       "      <th>Y1</th>\n",
       "      <th>Y2</th>\n",
       "    </tr>\n",
       "  </thead>\n",
       "  <tbody>\n",
       "    <tr>\n",
       "      <th>0</th>\n",
       "      <td>-87.808803</td>\n",
       "      <td>307.1</td>\n",
       "      <td>0.0</td>\n",
       "      <td>0.00</td>\n",
       "    </tr>\n",
       "    <tr>\n",
       "      <th>1</th>\n",
       "      <td>-87.808803</td>\n",
       "      <td>307.1</td>\n",
       "      <td>-0.1</td>\n",
       "      <td>0.04</td>\n",
       "    </tr>\n",
       "    <tr>\n",
       "      <th>2</th>\n",
       "      <td>-87.848803</td>\n",
       "      <td>307.2</td>\n",
       "      <td>-0.2</td>\n",
       "      <td>0.00</td>\n",
       "    </tr>\n",
       "    <tr>\n",
       "      <th>3</th>\n",
       "      <td>-87.848803</td>\n",
       "      <td>307.4</td>\n",
       "      <td>-0.3</td>\n",
       "      <td>0.04</td>\n",
       "    </tr>\n",
       "    <tr>\n",
       "      <th>4</th>\n",
       "      <td>-87.888803</td>\n",
       "      <td>307.7</td>\n",
       "      <td>-0.4</td>\n",
       "      <td>0.00</td>\n",
       "    </tr>\n",
       "  </tbody>\n",
       "</table>\n",
       "</div>"
      ],
      "text/plain": [
       "          X1     X2   Y1    Y2\n",
       "0 -87.808803  307.1  0.0  0.00\n",
       "1 -87.808803  307.1 -0.1  0.04\n",
       "2 -87.848803  307.2 -0.2  0.00\n",
       "3 -87.848803  307.4 -0.3  0.04\n",
       "4 -87.888803  307.7 -0.4  0.00"
      ]
     },
     "execution_count": 23,
     "metadata": {},
     "output_type": "execute_result"
    }
   ],
   "source": [
    "data = pd.read_csv(\"ce889_dataCollection.csv\",names= ['X1', 'X2', 'Y1', 'Y2'])\n",
    "data.head(5)"
   ]
  },
  {
   "cell_type": "code",
   "execution_count": 24,
   "metadata": {},
   "outputs": [
    {
     "data": {
      "text/plain": [
       "(6816, 4)"
      ]
     },
     "execution_count": 24,
     "metadata": {},
     "output_type": "execute_result"
    }
   ],
   "source": [
    "data.shape"
   ]
  },
  {
   "cell_type": "code",
   "execution_count": 25,
   "metadata": {},
   "outputs": [
    {
     "data": {
      "text/plain": [
       "X1    556.311507\n",
       "X2    558.184233\n",
       "Y1      7.634873\n",
       "Y2      3.105493\n",
       "dtype: float64"
      ]
     },
     "execution_count": 25,
     "metadata": {},
     "output_type": "execute_result"
    }
   ],
   "source": [
    "data.max() "
   ]
  },
  {
   "cell_type": "code",
   "execution_count": 26,
   "metadata": {},
   "outputs": [
    {
     "data": {
      "text/plain": [
       "X1   -539.680600\n",
       "X2     65.201914\n",
       "Y1     -3.624905\n",
       "Y2     -3.030444\n",
       "dtype: float64"
      ]
     },
     "execution_count": 26,
     "metadata": {},
     "output_type": "execute_result"
    }
   ],
   "source": [
    "data.min()"
   ]
  },
  {
   "cell_type": "code",
   "execution_count": 27,
   "metadata": {},
   "outputs": [
    {
     "data": {
      "text/html": [
       "<div>\n",
       "<style scoped>\n",
       "    .dataframe tbody tr th:only-of-type {\n",
       "        vertical-align: middle;\n",
       "    }\n",
       "\n",
       "    .dataframe tbody tr th {\n",
       "        vertical-align: top;\n",
       "    }\n",
       "\n",
       "    .dataframe thead th {\n",
       "        text-align: right;\n",
       "    }\n",
       "</style>\n",
       "<table border=\"1\" class=\"dataframe\">\n",
       "  <thead>\n",
       "    <tr style=\"text-align: right;\">\n",
       "      <th></th>\n",
       "      <th>X1</th>\n",
       "      <th>X2</th>\n",
       "      <th>Y1</th>\n",
       "      <th>Y2</th>\n",
       "    </tr>\n",
       "  </thead>\n",
       "  <tbody>\n",
       "    <tr>\n",
       "      <th>0</th>\n",
       "      <td>-87.808803</td>\n",
       "      <td>307.100000</td>\n",
       "      <td>0.000000</td>\n",
       "      <td>0.00000</td>\n",
       "    </tr>\n",
       "    <tr>\n",
       "      <th>2</th>\n",
       "      <td>-87.848803</td>\n",
       "      <td>307.200000</td>\n",
       "      <td>-0.200000</td>\n",
       "      <td>0.00000</td>\n",
       "    </tr>\n",
       "    <tr>\n",
       "      <th>3</th>\n",
       "      <td>-87.848803</td>\n",
       "      <td>307.400000</td>\n",
       "      <td>-0.300000</td>\n",
       "      <td>0.04000</td>\n",
       "    </tr>\n",
       "    <tr>\n",
       "      <th>4</th>\n",
       "      <td>-87.888803</td>\n",
       "      <td>307.700000</td>\n",
       "      <td>-0.400000</td>\n",
       "      <td>0.00000</td>\n",
       "    </tr>\n",
       "    <tr>\n",
       "      <th>5</th>\n",
       "      <td>-87.888803</td>\n",
       "      <td>308.100000</td>\n",
       "      <td>-0.500000</td>\n",
       "      <td>0.04000</td>\n",
       "    </tr>\n",
       "    <tr>\n",
       "      <th>...</th>\n",
       "      <td>...</td>\n",
       "      <td>...</td>\n",
       "      <td>...</td>\n",
       "      <td>...</td>\n",
       "    </tr>\n",
       "    <tr>\n",
       "      <th>6811</th>\n",
       "      <td>32.903551</td>\n",
       "      <td>87.036826</td>\n",
       "      <td>4.785483</td>\n",
       "      <td>-0.38103</td>\n",
       "    </tr>\n",
       "    <tr>\n",
       "      <th>6812</th>\n",
       "      <td>33.284581</td>\n",
       "      <td>82.251343</td>\n",
       "      <td>4.885483</td>\n",
       "      <td>-0.34103</td>\n",
       "    </tr>\n",
       "    <tr>\n",
       "      <th>6813</th>\n",
       "      <td>33.625611</td>\n",
       "      <td>77.365861</td>\n",
       "      <td>4.985483</td>\n",
       "      <td>-0.30103</td>\n",
       "    </tr>\n",
       "    <tr>\n",
       "      <th>6814</th>\n",
       "      <td>33.926641</td>\n",
       "      <td>72.380378</td>\n",
       "      <td>5.085483</td>\n",
       "      <td>-0.26103</td>\n",
       "    </tr>\n",
       "    <tr>\n",
       "      <th>6815</th>\n",
       "      <td>34.187671</td>\n",
       "      <td>67.294896</td>\n",
       "      <td>5.185483</td>\n",
       "      <td>-0.22103</td>\n",
       "    </tr>\n",
       "  </tbody>\n",
       "</table>\n",
       "<p>6781 rows × 4 columns</p>\n",
       "</div>"
      ],
      "text/plain": [
       "             X1          X2        Y1       Y2\n",
       "0    -87.808803  307.100000  0.000000  0.00000\n",
       "2    -87.848803  307.200000 -0.200000  0.00000\n",
       "3    -87.848803  307.400000 -0.300000  0.04000\n",
       "4    -87.888803  307.700000 -0.400000  0.00000\n",
       "5    -87.888803  308.100000 -0.500000  0.04000\n",
       "...         ...         ...       ...      ...\n",
       "6811  32.903551   87.036826  4.785483 -0.38103\n",
       "6812  33.284581   82.251343  4.885483 -0.34103\n",
       "6813  33.625611   77.365861  4.985483 -0.30103\n",
       "6814  33.926641   72.380378  5.085483 -0.26103\n",
       "6815  34.187671   67.294896  5.185483 -0.22103\n",
       "\n",
       "[6781 rows x 4 columns]"
      ]
     },
     "execution_count": 27,
     "metadata": {},
     "output_type": "execute_result"
    }
   ],
   "source": [
    "data.drop_duplicates(subset=[\"X1\",\"X2\"])"
   ]
  },
  {
   "cell_type": "code",
   "execution_count": 28,
   "metadata": {},
   "outputs": [
    {
     "data": {
      "text/plain": [
       "0       False\n",
       "1       False\n",
       "2       False\n",
       "3       False\n",
       "4       False\n",
       "        ...  \n",
       "6811    False\n",
       "6812    False\n",
       "6813    False\n",
       "6814    False\n",
       "6815    False\n",
       "Length: 6816, dtype: bool"
      ]
     },
     "execution_count": 28,
     "metadata": {},
     "output_type": "execute_result"
    }
   ],
   "source": [
    "data.duplicated(keep='last')"
   ]
  },
  {
   "cell_type": "code",
   "execution_count": 29,
   "metadata": {},
   "outputs": [
    {
     "data": {
      "text/plain": [
       "X1    0\n",
       "X2    0\n",
       "Y1    0\n",
       "Y2    0\n",
       "dtype: int64"
      ]
     },
     "execution_count": 29,
     "metadata": {},
     "output_type": "execute_result"
    }
   ],
   "source": [
    "data.isna().sum()"
   ]
  },
  {
   "cell_type": "code",
   "execution_count": 30,
   "metadata": {},
   "outputs": [],
   "source": [
    "data['X1'].fillna((data['X1'].mean()), inplace=True)\n",
    "data['X2'].fillna((data['X2'].mean()), inplace=True)\n",
    "data['Y1'].fillna((data['Y1'].mean()), inplace=True)\n",
    "data['Y2'].fillna((data['Y2'].mean()), inplace=True)"
   ]
  },
  {
   "cell_type": "code",
   "execution_count": null,
   "metadata": {},
   "outputs": [],
   "source": []
  },
  {
   "cell_type": "code",
   "execution_count": 31,
   "metadata": {},
   "outputs": [
    {
     "name": "stdout",
     "output_type": "stream",
     "text": [
      "            X1        X2        Y1        Y2\n",
      "0     0.412295  0.490683  0.321934  0.493884\n",
      "1     0.412295  0.490683  0.313053  0.500403\n",
      "2     0.412258  0.490886  0.304172  0.493884\n",
      "3     0.412258  0.491292  0.295290  0.500403\n",
      "4     0.412222  0.491900  0.286409  0.493884\n",
      "...        ...       ...       ...       ...\n",
      "6811  0.522435  0.044291  0.746941  0.431786\n",
      "6812  0.522782  0.034584  0.755822  0.438305\n",
      "6813  0.523093  0.024674  0.764703  0.444824\n",
      "6814  0.523368  0.014561  0.773584  0.451343\n",
      "6815  0.523606  0.004246  0.782466  0.457862\n",
      "\n",
      "[6816 rows x 4 columns]\n"
     ]
    }
   ],
   "source": [
    "def normalize_data(df):\n",
    "    data = df.copy()\n",
    "    for f in df.columns:\n",
    "        max_value = df[f].max()\n",
    "        min_value = df[f].min()\n",
    "        data[f] = (df[f] - min_value) / (max_value - min_value)\n",
    "    return data\n",
    "\n",
    "data = normalize_data(data)\n",
    "print(data)\n"
   ]
  },
  {
   "cell_type": "code",
   "execution_count": 32,
   "metadata": {},
   "outputs": [],
   "source": [
    "train_len = int(len(data) * 0.7)\n",
    "test_len = len(data) - train_len\n",
    "train, test = data.iloc[0:train_len,:], data.iloc[train_len:len(data),:] "
   ]
  },
  {
   "cell_type": "code",
   "execution_count": 33,
   "metadata": {},
   "outputs": [
    {
     "name": "stdout",
     "output_type": "stream",
     "text": [
      "            X1        X2        Y1        Y2\n",
      "0     0.412295  0.490683  0.321934  0.493884\n",
      "1     0.412295  0.490683  0.313053  0.500403\n",
      "2     0.412258  0.490886  0.304172  0.493884\n",
      "3     0.412258  0.491292  0.295290  0.500403\n",
      "4     0.412222  0.491900  0.286409  0.493884\n",
      "...        ...       ...       ...       ...\n",
      "4766  0.312113  0.434725  0.424314  0.443243\n",
      "4767  0.312396  0.432387  0.416504  0.438614\n",
      "4768  0.312706  0.430227  0.408694  0.433985\n",
      "4769  0.313041  0.428245  0.400884  0.429356\n",
      "4770  0.313402  0.426442  0.393074  0.424726\n",
      "\n",
      "[4771 rows x 4 columns]\n",
      "            X1        X2        Y1        Y2\n",
      "4771  0.313790  0.424817  0.385264  0.420097\n",
      "4772  0.314203  0.423371  0.377454  0.415468\n",
      "4773  0.314642  0.422102  0.369644  0.410839\n",
      "4774  0.315107  0.421013  0.361834  0.406210\n",
      "4775  0.315597  0.420101  0.354024  0.401581\n",
      "...        ...       ...       ...       ...\n",
      "6811  0.522435  0.044291  0.746941  0.431786\n",
      "6812  0.522782  0.034584  0.755822  0.438305\n",
      "6813  0.523093  0.024674  0.764703  0.444824\n",
      "6814  0.523368  0.014561  0.773584  0.451343\n",
      "6815  0.523606  0.004246  0.782466  0.457862\n",
      "\n",
      "[2045 rows x 4 columns]\n"
     ]
    }
   ],
   "source": [
    "print(train)\n",
    "print(test)"
   ]
  },
  {
   "cell_type": "code",
   "execution_count": 34,
   "metadata": {},
   "outputs": [],
   "source": [
    "train.to_csv(\"normalized_training.csv\", index=False)\n",
    "test.to_csv(\"normalized_testing.csv\", index=False)"
   ]
  },
  {
   "cell_type": "code",
   "execution_count": null,
   "metadata": {},
   "outputs": [],
   "source": []
  }
 ],
 "metadata": {
  "kernelspec": {
   "display_name": "Python 3",
   "language": "python",
   "name": "python3"
  },
  "language_info": {
   "codemirror_mode": {
    "name": "ipython",
    "version": 3
   },
   "file_extension": ".py",
   "mimetype": "text/x-python",
   "name": "python",
   "nbconvert_exporter": "python",
   "pygments_lexer": "ipython3",
   "version": "3.9.1 (tags/v3.9.1:1e5d33e, Dec  7 2020, 17:08:21) [MSC v.1927 64 bit (AMD64)]"
  },
  "vscode": {
   "interpreter": {
    "hash": "94e09a200152479e675faf5cc1eab072a8b3c0b929aac4e8b51e50cebb8048a3"
   }
  }
 },
 "nbformat": 4,
 "nbformat_minor": 2
}
